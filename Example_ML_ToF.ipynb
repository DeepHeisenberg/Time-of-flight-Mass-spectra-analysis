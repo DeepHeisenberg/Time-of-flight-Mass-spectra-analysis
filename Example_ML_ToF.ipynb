{
  "nbformat": 4,
  "nbformat_minor": 0,
  "metadata": {
    "colab": {
      "name": "Example_ML-ToF.ipynb",
      "provenance": [],
      "collapsed_sections": []
    },
    "kernelspec": {
      "name": "python3",
      "display_name": "Python 3"
    }
  },
  "cells": [
    {
      "cell_type": "markdown",
      "metadata": {
        "id": "T823R8d0JLDP"
      },
      "source": [
        "# Loading the mass sepctrum\n"
      ]
    },
    {
      "cell_type": "code",
      "metadata": {
        "id": "LqrF_YdtJPwP"
      },
      "source": [
        "from matplotlib.ticker import (MultipleLocator, FormatStrFormatter,\n",
        "                               AutoMinorLocator)\n",
        "\n",
        "import matplotlib.ticker as tck\n",
        "import matplotlib.pyplot as plt\n",
        "import numpy as np\n",
        "from scipy.signal import savgol_filter, find_peaks\n",
        "import pandas as pd\n",
        "plt.style.use('seaborn-white')\n",
        "#plt.style.use('ggplot')  its nice!\n",
        "plt.rcParams['font.family'] = 'arial'\n",
        "plt.rcParams['font.serif'] = 'Ubuntu'\n",
        "plt.rcParams['font.monospace'] = 'Ubuntu Mono'\n",
        "plt.rcParams['font.size'] = 25\n",
        "plt.rcParams['axes.labelsize'] = 25\n",
        "plt.rcParams['axes.titleweight'] = 'bold'\n",
        "plt.rcParams['axes.titlesize'] = 25\n",
        "plt.rcParams['xtick.labelsize'] = 25\n",
        "plt.rcParams['ytick.labelsize'] = 25\n",
        "plt.rcParams['legend.fontsize'] = 25\n",
        "plt.rcParams['figure.titlesize'] = 25\n",
        "def peak_finder(mass, dis, h, p):    \n",
        "    x=mass.iloc[:,0][1000:200000]\n",
        "    counts= mass.iloc[:,1][1000:200000]\n",
        "    y= np.log(mass.iloc[:,1])[1000:200000]\n",
        "    peaks, _ = find_peaks(y, distance=dis, height=h, prominence=p)#5(log_counts, distance=2, height=2, prominence=0.6)\n",
        "    fig, ax = plt.subplots(figsize=(20, 5))\n",
        "    ax.plot(x,y, color='k')\n",
        "    ax.scatter(x.iloc[peaks],y.iloc[peaks], color='r',s = 20)\n",
        "    plt.xlabel('Mass-to-charge ratio [m/z[)]')\n",
        "    plt.ylabel('Count [log]')\n",
        "    ax.minorticks_on()\n",
        "    ax.tick_params(direction='out',axis='both',  which ='major',length=6, width=2, colors='black',\n",
        "                   grid_color='black', grid_alpha=0.5)\n",
        "    ax.tick_params(direction='out',axis='both',  which ='minor',length=4, width=2, colors='black')\n",
        "    ax.xaxis.set_major_locator(MultipleLocator(10))\n",
        "    ax.xaxis.set_major_formatter(FormatStrFormatter('%d'))\n",
        "    \n",
        "    # For the minor ticks, use no labels; default NullFormatter.\n",
        "    ax.xaxis.set_minor_locator(MultipleLocator(5))    \n",
        "    plt.xlim(0, max(x.iloc[peaks]+10))\n",
        "    plt.ylim(0,15)  \n",
        "    plt.grid(linestyle='dotted')\n",
        "    y=y.reset_index(drop=True)\n",
        "    new_mass= pd.concat([x.iloc[peaks], counts.iloc[peaks]],axis=1, ignore_index=True, sort =False)\n",
        "    new_mass.columns = ['m','count']\n",
        "    return new_mass\n"
      ],
      "execution_count": 83,
      "outputs": []
    },
    {
      "cell_type": "markdown",
      "metadata": {
        "id": "7k35vPoGMstJ"
      },
      "source": [
        "Original data has 674427 rows and 4 columns"
      ]
    },
    {
      "cell_type": "code",
      "metadata": {
        "id": "xLfkkwM7MmeU",
        "outputId": "2e157845-b617-4f9c-9611-37bebb30721b",
        "colab": {
          "base_uri": "https://localhost:8080/"
        }
      },
      "source": [
        "\n",
        "mass = pd.read_csv('/content/mass_spectra_HEA.csv')\n",
        "print(mass)\n"
      ],
      "execution_count": 84,
      "outputs": [
        {
          "output_type": "stream",
          "text": [
            "        Mass to Charge State Ratio (Da)  ...   Background Count\n",
            "0                                0.0000  ...       10511.330000\n",
            "1                                0.0010  ...        6068.722000\n",
            "2                                0.0020  ...        4700.812000\n",
            "3                                0.0030  ...        3972.911000\n",
            "4                                0.0040  ...        3503.779000\n",
            "...                                 ...  ...                ...\n",
            "674422                         674.4221  ...           9.050590\n",
            "674423                         674.4230  ...           9.050583\n",
            "674424                         674.4240  ...           9.050576\n",
            "674425                         674.4250  ...           9.050570\n",
            "674426                         674.4260  ...           9.050563\n",
            "\n",
            "[674427 rows x 4 columns]\n"
          ],
          "name": "stdout"
        }
      ]
    },
    {
      "cell_type": "code",
      "metadata": {
        "id": "V4FRrWcHM_H3",
        "outputId": "9b184992-be86-43da-d80f-63aeacf643b4",
        "colab": {
          "base_uri": "https://localhost:8080/",
          "height": 408
        }
      },
      "source": [
        "dis=100\n",
        "h=4\n",
        "p = 1\n",
        "mass_peaks = peak_finder(mass, dis, h, p)"
      ],
      "execution_count": 85,
      "outputs": [
        {
          "output_type": "stream",
          "text": [
            "/usr/local/lib/python3.6/dist-packages/pandas/core/series.py:726: RuntimeWarning: divide by zero encountered in log\n",
            "  result = getattr(ufunc, method)(*inputs, **kwargs)\n"
          ],
          "name": "stderr"
        },
        {
          "output_type": "display_data",
          "data": {
            "image/png": "[encoded data removed]",
            "text/plain": [
              "<Figure size 1440x360 with 1 Axes>"
            ]
          },
          "metadata": {
            "tags": []
          }
        }
      ]
    },
    {
      "cell_type": "markdown",
      "metadata": {
        "id": "KF_37IJaOCZ1"
      },
      "source": [
        "**Peaks of mass spectra as input**"
      ]
    },
    {
      "cell_type": "code",
      "metadata": {
        "id": "C1BrO9-KNwjo",
        "outputId": "95865066-8c3c-40ea-d8b2-ecf6a10edaa5",
        "colab": {
          "base_uri": "https://localhost:8080/"
        }
      },
      "source": [
        "print(mass_peaks)"
      ],
      "execution_count": 86,
      "outputs": [
        {
          "output_type": "stream",
          "text": [
            "              m    count\n",
            "1007    1.00700  1012876\n",
            "2015    2.01500    79183\n",
            "5996    5.99600     1215\n",
            "11012  11.01200      144\n",
            "11997  11.99700     1133\n",
            "13989  13.98900      295\n",
            "16021  16.02100      114\n",
            "16994  16.99400      173\n",
            "18002  18.00200      124\n",
            "23999  23.99900      106\n",
            "26970  26.97000    10369\n",
            "27466  27.46600      265\n",
            "27967  27.96700   154368\n",
            "28468  28.46800     3693\n",
            "28967  28.96700   145054\n",
            "29466  29.46600   210975\n",
            "29965  29.96500    54019\n",
            "30468  30.46800     2396\n",
            "30964  30.96400     7323\n",
            "31964  31.96400     1894\n",
            "34458  34.45800      342\n",
            "35254  35.25400       63\n",
            "36218  36.21800       63\n",
            "36776  36.77600       61\n",
            "37809  37.80900       63\n",
            "38310  38.31000       62\n",
            "40040  40.04000       60\n",
            "41065  41.06500       63\n",
            "41452  41.45200       73\n",
            "41917  41.91700       61\n",
            "42193  42.19300       60\n",
            "42689  42.68900       56\n",
            "43979  43.97900       60\n",
            "44594  44.59400       56\n",
            "45230  45.23000      246\n",
            "46454  46.45400       62\n",
            "47589  47.58900       55\n",
            "47760  47.76000       55\n",
            "50311  50.31100       55\n",
            "55941  55.94100      121\n",
            "56942  56.94200      182\n",
            "57939  57.93900     9652\n",
            "58943  58.94300     1141\n",
            "59936  59.93600     4091\n",
            "60308  60.30800    24508\n",
            "60936  60.93600      473\n",
            "61931  61.93100      539\n",
            "62939  62.93900       80\n",
            "63936  63.93600      161\n",
            "68935  68.93501     1075\n",
            "90461  90.46101     2792\n",
            "90970  90.97000     6834\n",
            "91474  91.47401     1279\n",
            "91978  91.97800      301\n",
            "96457  96.45701       98\n",
            "96973  96.97301       60\n",
            "98440  98.44000       57\n"
          ],
          "name": "stdout"
        }
      ]
    },
    {
      "cell_type": "markdown",
      "metadata": {
        "id": "0E2W-x_7Px3U"
      },
      "source": [
        "\n",
        "# Atomic pattern recognizer\n"
      ]
    },
    {
      "cell_type": "code",
      "metadata": {
        "id": "tThLIy9TOWad"
      },
      "source": [
        "# -*- coding: utf-8 -*-\n",
        "\"\"\"\n",
        "Created on Thu Jul 16 18:52:59 2020\n",
        "\n",
        "@author: y.wei\n",
        "\"\"\"\n",
        "import pandas as pd\n",
        "import os\n",
        "import re\n",
        "import numpy as np\n",
        "import pickle\n",
        "\n",
        "def round_up_values_higher_charge(test):\n",
        "    new_test= []\n",
        "    for n in test:\n",
        "        temp=int(n)\n",
        "#        print(temp)\n",
        "    \n",
        "        if n<=temp+0.2:\n",
        "            new_n = temp\n",
        "            new_test.append(new_n)   \n",
        "        elif (n>temp+0.22 and n<=temp+0.27):\n",
        "            new_n = temp+0.25\n",
        "            new_test.append(new_n)  \n",
        "        elif (n>temp+0.27 and n<=temp+0.35):\n",
        "            new_n = temp+0.33\n",
        "            new_test.append(new_n)      \n",
        "        elif (n>temp+0.37 and n<=temp+0.6):\n",
        "            new_n = temp+0.5\n",
        "            new_test.append(new_n)\n",
        "        elif (n>temp+0.6 and n<=temp+0.7):\n",
        "            new_n = temp+0.67\n",
        "            new_test.append(new_n)\n",
        "        elif (n>temp+0.7 and n<=temp+0.8):\n",
        "            new_n = temp+0.75   \n",
        "            new_test.append(new_n)       \n",
        "        else:\n",
        "            new_n = temp+1   \n",
        "            new_test.append(new_n)                   \n",
        "    return new_test\n",
        "\n",
        "class Atomic_pattern_recognizer(object):\n",
        "  def __init__(self):\n",
        "    self.three_peaks_names = ['Mg', 'S', 'Si', 'Fe', 'Ca_3P','double_S', 'double_B','Random_class_three', 'Ni_3P','Cr_3P']\n",
        "    self.four_peaks_names = ['Cr', 'Zn', 'Fe', 'Ni', 'Zr','Ca','Random_class_four']\n",
        "    self.five_peaks_names = ['Ti', 'Ni', 'Ge','Zn','Se','Zr','Random_class_five'] \n",
        "    self.seven_peaks_names = ['Ru', 'Mo', 'Sm', 'Nd', 'Gd', 'Yd','Random_class_seven']\n",
        "    self.three_peak_classifier = pickle.load(open(\"/content/ML_models/lgb_model_three.pickle.dat\", \"rb\"))\n",
        "    self.four_peak_classifier = pickle.load(open(\"/content/ML_models/lgb_model_four.dat\", \"rb\"))\n",
        "    self.five_peak_classifier = pickle.load(open(\"/content/ML_models/lgb_model_five.pickle.dat\", \"rb\"))\n",
        "    self.seven_peak_classifier = pickle.load(open(\"/content/ML_models/lgb_model_seven.pickle.dat\", \"rb\"))\n",
        "\n",
        "\n",
        "  def three_peak_class(self, peak):\n",
        "      x = {'P1': [peak['normalized_count'].iloc[0]], 'P2': [peak['normalized_count'].iloc[1]],\n",
        "          'P3':[peak['normalized_count'].iloc[2]]}\n",
        "      x1=pd.DataFrame(x)\n",
        "      pred = self.three_peak_classifier.predict(x1)\n",
        "      name = self.three_peaks_names[np.argmax(pred[0])]\n",
        "      x1['std'] =x1.std(axis=1)\n",
        "\n",
        "      return pred,name, x1 \n",
        "\n",
        "\n",
        "  def four_peak_class(self, peak):\n",
        "      x = {'P1': [peak['normalized_count'].iloc[0]], 'P2': [peak['normalized_count'].iloc[1]],\n",
        "          'P3':[peak['normalized_count'].iloc[2]],'P4':[peak['normalized_count'].iloc[3]]}\n",
        "      x1 = pd.DataFrame(x)\n",
        "      x1['std'] =x1.std(axis=1)\n",
        "      x1['P1/P2'] = x1['P1']/x1['P2']\n",
        "      x1['P1/P3'] = x1['P1']/x1['P3']\n",
        "      x1['P1/P4'] = x1['P1']/x1['P4']\n",
        "      x1['P2/P3'] = x1['P2']/x1['P3']\n",
        "      x1['P2/P4'] = x1['P2']/x1['P4']\n",
        "      x1['P3/P4'] = x1['P3']/x1['P4']\n",
        "      x2 = x1.drop(['P1','P2','P3','P4'],axis=1)\n",
        "      pred = self.four_peak_classifier.predict(x2)\n",
        "      name = self.four_peaks_names[np.argmax(pred[0])]\n",
        "      return pred, name, x1    \n",
        "\n",
        "\n",
        "  def five_peak_class(self, peak):\n",
        "      x = {'P1': [peak['normalized_count'].iloc[0]], 'P2': [peak['normalized_count'].iloc[1]],\n",
        "          'P3':[peak['normalized_count'].iloc[2]],'P4':[peak['normalized_count'].iloc[3]],\n",
        "          'P5':[peak['normalized_count'].iloc[4]]}\n",
        "      x1=pd.DataFrame(x)\n",
        "      x1['std'] =x1.std(axis=1)\n",
        "      pred = self.five_peak_classifier.predict(x1)\n",
        "      name = self.five_peaks_names[np.argmax(pred[0])]\n",
        "      return pred,name ,x1      \n",
        "\n",
        "\n",
        "  def seven_peak_class(self, peak):\n",
        "      x = {'P1': [peak['normalized_count'].iloc[0]], 'P2': [peak['normalized_count'].iloc[1]],\n",
        "          'P3':[peak['normalized_count'].iloc[2]],'P4':[peak['normalized_count'].iloc[3]],\n",
        "          'P5':[peak['normalized_count'].iloc[4]], 'P6':[peak['normalized_count'].iloc[5]],'P7':[peak['normalized_count'].iloc[6]]}                                                        \n",
        "      x1=pd.DataFrame(x)\n",
        "      x1['std'] =x1.std(axis=1)\n",
        "      pred = self.seven_peak_classifier.predict(x1)\n",
        "      name = self.seven_peaks_names[np.argmax(pred[0])]\n",
        "      return pred,name ,x1  \n",
        "\n",
        "\n",
        "  def MZ_ratio_match(self, frame, new_test):\n",
        "      path = '/content/atomic_database'\n",
        "      database = []\n",
        "      database_std = []\n",
        "      database_name = []\n",
        "      for filename in os.listdir(path):\n",
        "      #    print(filename)\n",
        "          temp = pd.read_csv(path+'/'+filename)\n",
        "          m = temp['m'].isin(new_test)\n",
        "          cols = temp.index[m].tolist()\n",
        "          comp = temp['Composition'].iloc[cols].tolist()\n",
        "          # print(comp)\n",
        "          if (len(cols)>=3 and sum(comp)>=99 and len(comp)>=3):\n",
        "      #        print(x)\n",
        "      #        print(frame[frame['Da'].isin(temp['m'][m])])      \n",
        "              x=frame[frame['Da'].isin(temp['m'][m])]\n",
        "              normalized_I=x['count']/sum(x['count'])*100        \n",
        "              x['normalized_count'] = normalized_I \n",
        "              # print(x)\n",
        "              # print(filename)\n",
        "              std_comp =  temp['Composition'].std()\n",
        "              std_temp = x['normalized_count'].std()        \n",
        "              database.append(x)\n",
        "              database_std.append(std_comp)\n",
        "      #        print(m)\n",
        "      #        print(len(m))\n",
        "              fn = filename.split('.')\n",
        "              database_name.append(fn[0])\n",
        "      return database, database_std, database_name \n",
        "\n",
        "\n",
        "  def multi_peak_search(self, frame, new_test):    \n",
        "      database, database_std, database_name =  MZ_ratio_match(frame, new_test)       \n",
        "      name_pair =  []       \n",
        "      predictions = []\n",
        "      new_peaks = []       \n",
        "      name_pair_uncertain =[]\n",
        "      new_peaks_uncertain = []\n",
        "      predictions_uncertain = [] \n",
        "      \n",
        "      for name, peak, std in zip(database_name, database, database_std):   \n",
        "          # print(name)\n",
        "          if len(peak) == 3:\n",
        "              # print(peak)\n",
        "              prediction, pred_name, x  = three_peak_class(peak)\n",
        "              print(pred_name)\n",
        "              print(prediction)\n",
        "              std_deviation = abs(x['std'][0]-std)/std\n",
        "              if max(prediction[0])<=0.8:\n",
        "                  x_uncertain = sorted(zip(prediction[0], three_peaks_names), reverse=True)[:3]\n",
        "                  x__uncertain_pred = sorted(prediction[0], reverse=True)[:3]                \n",
        "              if std_deviation <= 0.5 and max(prediction[0])>=0.8:\n",
        "                  print(peak)\n",
        "                  print(pred_name)\n",
        "                  print('std is {}'.format(std))\n",
        "                  print('deviation from std is {}'.format(std_deviation))\n",
        "                  name_pair.append([pred_name,name]) \n",
        "                  predictions.append(prediction)\n",
        "                  new_peaks.append(peak)\n",
        "              elif(std_deviation <= 0.5 and max(prediction[0])<=0.8):\n",
        "                  print(x)\n",
        "                  print('std is {}'.format(std))\n",
        "                  print('deviation from std is {}'.format(std_deviation))\n",
        "                  name_pair_uncertain.append([x_uncertain[0][1],x_uncertain[1][1], x_uncertain[2][1], name]) \n",
        "                  predictions_uncertain.append(prediction)\n",
        "                  new_peaks_uncertain.append(peak)                  \n",
        "                  \n",
        "          if len(peak) == 4:\n",
        "              prediction, pred_name, x  = four_peak_class(peak)\n",
        "              std_deviation = abs(x['std'][0]-std)/std\n",
        "              if max(prediction[0])<=0.8:\n",
        "                  x_uncertain = sorted(zip(prediction[0], four_peaks_names), reverse=True)[:3]\n",
        "                  x__uncertain_pred = sorted(prediction[0], reverse=True)[:3]                \n",
        "              if (std_deviation <= 0.5 and max(prediction[0])>=0.8):\n",
        "                  print(peak)\n",
        "                  print(pred_name)\n",
        "                  # print('std is {}'.format(std))\n",
        "                  # print('deviation from std is {}'.format(std_deviation))\n",
        "                  name_pair.append([pred_name,name]) \n",
        "                  predictions.append(prediction)\n",
        "                  new_peaks.append(peak)\n",
        "              elif(std_deviation <= 0.5 and max(prediction[0])<=0.5):\n",
        "                  print(x)\n",
        "      #            print(peak)\n",
        "                  print(pred_name)\n",
        "                  print('std is {}'.format(std))\n",
        "                  print('deviation from std is {}'.format(std_deviation))\n",
        "                  name_pair_uncertain.append([x_uncertain[0][1],x_uncertain[1][1], x_uncertain[2][1], name]) \n",
        "                  predictions_uncertain.append(prediction)\n",
        "                  new_peaks_uncertain.append(peak)            \n",
        "                  \n",
        "          if len(peak) == 5:\n",
        "              prediction, pred_name, x  = five_peak_class(peak)\n",
        "              print(pred_name)\n",
        "              std_deviation = abs(x['std'][0]-std)/std\n",
        "              print('std is {}'.format(std))\n",
        "              print('deviation from std is {}'.format(std_deviation))\n",
        "              if std_deviation <= 0.5:\n",
        "                  name_pair.append([pred_name,name]) \n",
        "                  predictions.append(prediction)\n",
        "                  new_peaks.append(peak)\n",
        "                                  \n",
        "          if len(peak) == 7:\n",
        "              prediction, pred_name, x  = seven_peak_class(peak)\n",
        "      #        print(pred_name)\n",
        "              std_deviation = abs(x['std'][0]-std)/std\n",
        "              print('std is {}'.format(std))\n",
        "              print('deviation from std is {}'.format(std_deviation))\n",
        "              if std_deviation <= 0.5:\n",
        "                  name_pair.append([pred_name,name]) \n",
        "                  predictions.append(prediction)\n",
        "                  new_peaks.append(peak)                 \n",
        "                  \n",
        "      elements_three_or_more_peak=[]\n",
        "      for item in name_pair:\n",
        "          if item[0] == item[1]:\n",
        "              print('Element {} is confirmed!'.format(item[0]))\n",
        "              elements_three_or_more_peak.append(item[1])\n",
        "          if item[0] in item[1]:\n",
        "                  print('Element {} is confirmed!'.format(item[1]))\n",
        "                  elements_three_or_more_peak.append(item[1])\n",
        "      if len(name_pair_uncertain)>0:\n",
        "          print('there are peaks with uncertainies!')\n",
        "          all_elements_uncertain = [name_pair_uncertain, new_peaks_uncertain, predictions_uncertain]            \n",
        "      else:\n",
        "          all_elements_uncertain = []\n",
        "      return elements_three_or_more_peak, new_peaks, predictions, name_pair, all_elements_uncertain\n",
        "\n",
        "\n",
        "  def two_peak_search(self, frame, new_test):\n",
        "      path = '/content/atomic_database'\n",
        "      database =[] \n",
        "      database_std =[]\n",
        "      database_name=[]\n",
        "      total_count = sum(frame['count'])\n",
        "      for filename in os.listdir(path):\n",
        "      #    print(filename)\n",
        "          temp = pd.read_csv(path+'/'+filename)\n",
        "          m = temp['m'].isin(new_test)\n",
        "          cols = temp.index[m].tolist()\n",
        "          comp = temp['Composition'].iloc[cols].tolist()\n",
        "      #    print(m)\n",
        "          std_comp =  temp['Composition'].std()\n",
        "          x=frame[frame['Da'].isin(temp['m'][m])]\n",
        "          if (len(cols)==2 and sum(comp)>=98 and len(x)>0):\n",
        "              print(frame[frame['Da'].isin(temp['m'][m])])\n",
        "              normalized_I=x['count']/sum(x['count'])*100        \n",
        "              x['normalized_count'] = normalized_I\n",
        "              if ((sum(x['count'])/total_count)>=0):\n",
        "                  std = x['normalized_count'].std()\n",
        "                  std_deviation = abs(std_comp-std)/std_comp\n",
        "                  if  std_deviation<=0.5:\n",
        "                      database.append(x)\n",
        "                      database_std.append(std_deviation)\n",
        "                      fn = filename.split('.')\n",
        "                      database_name.append(fn[0])                      \n",
        "                      print(fn)      \n",
        "      elements_two_peak = database_name\n",
        "      return elements_two_peak\n",
        "\n",
        "\n",
        "  def one_peak_search(self, frame, new_test):\n",
        "      path = '/content/atomic_database'\n",
        "      database =[] \n",
        "      database_std =[]\n",
        "      database_name=[]\n",
        "      total_count = sum(frame['count'])\n",
        "      for filename in os.listdir(path):\n",
        "      #    print(filename)\n",
        "          temp = pd.read_csv(path+'/'+filename)\n",
        "          m = temp['m'].isin(new_test)\n",
        "          cols = temp.index[m].tolist()\n",
        "          comp = temp['Composition'].iloc[cols].tolist()\n",
        "          std_comp =  temp['Composition'].std()\n",
        "          x=frame[frame['Da'].isin(temp['m'][m])]\n",
        "          if (len(cols)==1 and sum(comp)>=98 and len(x)>0):\n",
        "              print(comp)\n",
        "              normalized_I=x['count']/sum(x['count'])*100        \n",
        "              x['normalized_count'] = normalized_I\n",
        "              if ((sum(x['count'])/total_count)>=0.0001):\n",
        "                  std_deviation = 0\n",
        "                  database.append(x)\n",
        "                  database_std.append(std_deviation)\n",
        "                  fn = filename.split('.')\n",
        "                  database_name.append(fn[0])\n",
        "      elements_one_peak = database_name\n",
        "      return elements_one_peak\n",
        "\n",
        "\n",
        "  def organic_peak_search(self, frame,new_test):\n",
        "      database =[] \n",
        "      database_std =[]\n",
        "      database_name=[]\n",
        "      path = '/content/organic_database'\n",
        "      elements_organic_peak = []\n",
        "      for filename in os.listdir(path):\n",
        "      #    print(filename)\n",
        "          temp = pd.read_csv(path+'/'+filename)\n",
        "          m = temp['m'].isin(new_test)\n",
        "          cols = temp.index[m].tolist()\n",
        "          comp = temp['Composition'].iloc[cols].tolist()\n",
        "      \n",
        "          if (len(cols)<=3 and sum(comp)>=98):\n",
        "              print(frame[frame['Da'].isin(temp['m'][m])])\n",
        "              std_comp =  temp['Composition'].std()\n",
        "              x=frame[frame['Da'].isin(temp['m'][m])]\n",
        "              normalized_I=x['count']/sum(x['count'])*100        \n",
        "              x['normalized_count'] = normalized_I \n",
        "              database.append(x)\n",
        "              fn = filename.split('.')\n",
        "              elements_organic_peak.append(fn[0])\n",
        "              print(fn)\n",
        "      return elements_organic_peak\n"
      ],
      "execution_count": 126,
      "outputs": []
    },
    {
      "cell_type": "markdown",
      "metadata": {
        "id": "rRx6oikhY9Fk"
      },
      "source": [
        "# load the data into the atomic pattern recognizer\n",
        "The data was round up so that the peak position can be accurately set."
      ]
    },
    {
      "cell_type": "code",
      "metadata": {
        "id": "xxZ0ybM5S5Wa"
      },
      "source": [
        "atomic_pattern_recognizer = Atomic_pattern_recognizer() "
      ],
      "execution_count": 88,
      "outputs": []
    },
    {
      "cell_type": "code",
      "metadata": {
        "id": "y97sfnkXY2g5"
      },
      "source": [
        "#this part is to round up the m/z ratio\n",
        "mass_peaks = mass_peaks.reset_index(drop=True)\n",
        "MZ_ratio_round = round_up_values_higher_charge((mass_peaks['m']))\n",
        "df_test =  pd.DataFrame(MZ_ratio_round)\n",
        "df_test.columns = ['Da']\n",
        "MS_frame = pd.concat([df_test, mass_peaks['count']], axis=1)"
      ],
      "execution_count": 127,
      "outputs": []
    },
    {
      "cell_type": "code",
      "metadata": {
        "id": "2A-ylfK0bfNg",
        "outputId": "79c0fc46-e75b-4c71-8a6f-5c2e65887f61",
        "colab": {
          "base_uri": "https://localhost:8080/"
        }
      },
      "source": [
        "elements_three_or_more_peak, new_peaks, predictions, name_pair, all_elements_uncertain = atomic_pattern_recognizer.multi_peak_search(MS_frame, MZ_ratio_round)\n",
        "elements_two_peak = atomic_pattern_recognizer.two_peak_search(MS_frame, MZ_ratio_round)\n",
        "elements_one_peak = atomic_pattern_recognizer.one_peak_search(MS_frame, MZ_ratio_round)\n",
        "elements_organic_peak = atomic_pattern_recognizer.organic_peak_search(MS_frame, MZ_ratio_round)\n",
        "    \n",
        "all_elements = elements_one_peak + elements_two_peak +  elements_organic_peak + elements_three_or_more_peak      \n",
        "all_elements = pd.DataFrame(all_elements)\n",
        "all_elements.columns = ['name']\n",
        "all_elements = all_elements.name.unique().tolist()\n",
        "all_elements = pd.DataFrame(all_elements)\n",
        "all_elements.columns = ['name']\n",
        "\n"
      ],
      "execution_count": 101,
      "outputs": [
        {
          "output_type": "stream",
          "text": [
            "/usr/local/lib/python3.6/dist-packages/ipykernel_launcher.py:143: SettingWithCopyWarning: \n",
            "A value is trying to be set on a copy of a slice from a DataFrame.\n",
            "Try using .loc[row_indexer,col_indexer] = value instead\n",
            "\n",
            "See the caveats in the documentation: https://pandas.pydata.org/pandas-docs/stable/user_guide/indexing.html#returning-a-view-versus-a-copy\n"
          ],
          "name": "stderr"
        },
        {
          "output_type": "stream",
          "text": [
            "Random_class_three\n",
            "[[7.90041558e-06 7.85389686e-06 7.86079636e-06 7.85895153e-06\n",
            "  7.80313575e-06 7.87584565e-06 7.73569941e-06 9.99829072e-01\n",
            "  7.80257964e-06 1.08237003e-04]]\n",
            "      Da   count  normalized_count\n",
            "14  29.0  145054         69.472968\n",
            "16  30.0   54019         25.872160\n",
            "17  30.5    2396          1.147554\n",
            "18  31.0    7323          3.507318\n",
            "Ni\n",
            "Ni_3P\n",
            "[[7.78940971e-06 7.77503198e-06 1.18009053e-05 7.75480070e-06\n",
            "  7.69997721e-06 7.79779534e-06 7.63849277e-06 7.71901083e-06\n",
            "  9.99926338e-01 7.68669911e-06]]\n",
            "      Da   count  normalized_count\n",
            "14  29.0  145054         70.279463\n",
            "16  30.0   54019         26.172503\n",
            "18  31.0    7323          3.548034\n",
            "Ni_3P\n",
            "std is 33.101597891944735\n",
            "deviation from std is 0.02524154254272826\n",
            "Random_class_three\n",
            "[[7.57959180e-06 7.53770875e-06 7.54432147e-06 7.54257134e-06\n",
            "  7.48887336e-06 7.55876327e-06 7.42405624e-06 9.99836094e-01\n",
            "  7.48835665e-06 1.03742057e-04]]\n",
            "Fe\n",
            "[[7.93536206e-06 7.89561101e-06 7.90248062e-06 9.99929986e-01\n",
            "  7.84461453e-06 7.91768153e-06 7.77681444e-06 7.86411035e-06\n",
            "  7.84399331e-06 7.03345227e-06]]\n",
            "      Da   count  normalized_count\n",
            "10  27.0   10369          6.156267\n",
            "12  28.0  154368         91.651131\n",
            "13  28.5    3693          2.192602\n",
            "Fe\n",
            "std is 50.623383302580635\n",
            "deviation from std is 0.0015767389615212453\n",
            "Ni\n",
            "std is 28.85331382527837\n",
            "deviation from std is 0.05659781346691523\n",
            "Ni\n",
            "std is 28.85331382527837\n",
            "deviation from std is 0.05659781346691523\n",
            "Ni\n",
            "std is 28.85331382527837\n",
            "deviation from std is 0.012181120945979935\n",
            "Ni\n",
            "std is 28.85331382527837\n",
            "deviation from std is 0.012181120945979935\n",
            "Ni_3P\n",
            "[[7.93748183e-06 7.89730087e-06 7.90461373e-06 7.90280611e-06\n",
            "  7.84610228e-06 7.91922496e-06 7.77839061e-06 7.86621263e-06\n",
            "  9.99929115e-01 7.83331542e-06]]\n",
            "      Da  count  normalized_count\n",
            "41  58.0   9652         67.581571\n",
            "43  60.0   4091         28.644448\n",
            "46  62.0    539          3.773981\n",
            "Ni_3P\n",
            "std is 33.101597891944735\n",
            "deviation from std is 0.02841010486830688\n",
            "          P1         P2        P3  ...     P2/P3     P2/P4     P3/P4\n",
            "0  65.415114  27.726195  3.205693  ...  8.649049  7.589981  0.877551\n",
            "\n",
            "[1 rows x 11 columns]\n",
            "Cr\n",
            "std is 31.42853561653804\n",
            "deviation from std is 0.06844505658103352\n",
            "Element Ni_4P2 is confirmed!\n",
            "Element Ni_3P2 is confirmed!\n",
            "Element Fe_3P2 is confirmed!\n",
            "Element Ni_5P is confirmed!\n",
            "Element Ni is confirmed!\n",
            "Element Ni is confirmed!\n",
            "Element Ni2 is confirmed!\n",
            "Element Ni_5P2 is confirmed!\n",
            "Element Ni_3P is confirmed!\n",
            "Element Ni_3P is confirmed!\n",
            "there are peaks with uncertainies!\n",
            "     Da  count\n",
            "6  16.0    114\n",
            "8  18.0    124\n"
          ],
          "name": "stdout"
        },
        {
          "output_type": "stream",
          "text": [
            "/usr/local/lib/python3.6/dist-packages/ipykernel_launcher.py:253: SettingWithCopyWarning: \n",
            "A value is trying to be set on a copy of a slice from a DataFrame.\n",
            "Try using .loc[row_indexer,col_indexer] = value instead\n",
            "\n",
            "See the caveats in the documentation: https://pandas.pydata.org/pandas-docs/stable/user_guide/indexing.html#returning-a-view-versus-a-copy\n",
            "/usr/local/lib/python3.6/dist-packages/ipykernel_launcher.py:284: SettingWithCopyWarning: \n",
            "A value is trying to be set on a copy of a slice from a DataFrame.\n",
            "Try using .loc[row_indexer,col_indexer] = value instead\n",
            "\n",
            "See the caveats in the documentation: https://pandas.pydata.org/pandas-docs/stable/user_guide/indexing.html#returning-a-view-versus-a-copy\n"
          ],
          "name": "stderr"
        },
        {
          "output_type": "stream",
          "text": [
            "[98.89]\n",
            "[100]\n",
            "[100]\n",
            "[99.988]\n",
            "[100]\n",
            "[99.64]\n",
            "[100]\n",
            "[98.89]\n",
            "[100]\n",
            "     Da  count\n",
            "4  12.0   1133\n",
            "['C', 'csv']\n",
            "     Da  count\n",
            "6  16.0    114\n",
            "7  17.0    173\n",
            "8  18.0    124\n",
            "['S2', 'csv']\n",
            "     Da  count\n",
            "6  16.0    114\n",
            "8  18.0    124\n",
            "['O', 'csv']\n",
            "     Da  count\n",
            "5  14.0    295\n",
            "['N', 'csv']\n",
            "    Da  count\n",
            "2  6.0   1215\n",
            "['C2', 'csv']\n"
          ],
          "name": "stdout"
        },
        {
          "output_type": "stream",
          "text": [
            "/usr/local/lib/python3.6/dist-packages/ipykernel_launcher.py:313: SettingWithCopyWarning: \n",
            "A value is trying to be set on a copy of a slice from a DataFrame.\n",
            "Try using .loc[row_indexer,col_indexer] = value instead\n",
            "\n",
            "See the caveats in the documentation: https://pandas.pydata.org/pandas-docs/stable/user_guide/indexing.html#returning-a-view-versus-a-copy\n",
            "/usr/local/lib/python3.6/dist-packages/ipykernel_launcher.py:313: SettingWithCopyWarning: \n",
            "A value is trying to be set on a copy of a slice from a DataFrame.\n",
            "Try using .loc[row_indexer,col_indexer] = value instead\n",
            "\n",
            "See the caveats in the documentation: https://pandas.pydata.org/pandas-docs/stable/user_guide/indexing.html#returning-a-view-versus-a-copy\n",
            "/usr/local/lib/python3.6/dist-packages/ipykernel_launcher.py:313: SettingWithCopyWarning: \n",
            "A value is trying to be set on a copy of a slice from a DataFrame.\n",
            "Try using .loc[row_indexer,col_indexer] = value instead\n",
            "\n",
            "See the caveats in the documentation: https://pandas.pydata.org/pandas-docs/stable/user_guide/indexing.html#returning-a-view-versus-a-copy\n",
            "/usr/local/lib/python3.6/dist-packages/ipykernel_launcher.py:313: SettingWithCopyWarning: \n",
            "A value is trying to be set on a copy of a slice from a DataFrame.\n",
            "Try using .loc[row_indexer,col_indexer] = value instead\n",
            "\n",
            "See the caveats in the documentation: https://pandas.pydata.org/pandas-docs/stable/user_guide/indexing.html#returning-a-view-versus-a-copy\n",
            "/usr/local/lib/python3.6/dist-packages/ipykernel_launcher.py:313: SettingWithCopyWarning: \n",
            "A value is trying to be set on a copy of a slice from a DataFrame.\n",
            "Try using .loc[row_indexer,col_indexer] = value instead\n",
            "\n",
            "See the caveats in the documentation: https://pandas.pydata.org/pandas-docs/stable/user_guide/indexing.html#returning-a-view-versus-a-copy\n"
          ],
          "name": "stderr"
        }
      ]
    },
    {
      "cell_type": "markdown",
      "metadata": {
        "id": "Xc_dSKOZcGu2"
      },
      "source": [
        "all detected elements, some of them are single peaks, it might not actually be there."
      ]
    },
    {
      "cell_type": "code",
      "metadata": {
        "id": "bAfUe9eib23a",
        "outputId": "4b63dd25-8a6e-4fd6-d776-b21189e4078d",
        "colab": {
          "base_uri": "https://localhost:8080/"
        }
      },
      "source": [
        "print(all_elements)"
      ],
      "execution_count": 102,
      "outputs": [
        {
          "output_type": "stream",
          "text": [
            "      name\n",
            "0        C\n",
            "1        P\n",
            "2      Co2\n",
            "3      Ta2\n",
            "4       Co\n",
            "5        N\n",
            "6       Al\n",
            "7       C2\n",
            "8      Mn2\n",
            "9       S2\n",
            "10       O\n",
            "11  Ni_4P2\n",
            "12  Ni_3P2\n",
            "13  Fe_3P2\n",
            "14   Ni_5P\n",
            "15      Ni\n",
            "16     Ni2\n",
            "17  Ni_5P2\n",
            "18   Ni_3P\n"
          ],
          "name": "stdout"
        }
      ]
    },
    {
      "cell_type": "markdown",
      "metadata": {
        "id": "gkC5CHJLch3F"
      },
      "source": [
        "\n",
        "One peak elements, users need to confirm the monoisotopic elements. \n",
        "\n"
      ]
    },
    {
      "cell_type": "code",
      "metadata": {
        "id": "Zkb86yP8b-_P",
        "outputId": "953c23a2-3ad1-4c06-f8d0-f97fcd70e930",
        "colab": {
          "base_uri": "https://localhost:8080/"
        }
      },
      "source": [
        "print(elements_one_peak)"
      ],
      "execution_count": 103,
      "outputs": [
        {
          "output_type": "stream",
          "text": [
            "['C', 'P', 'Co2', 'Ta2', 'Co', 'N', 'Al', 'C2', 'Mn2']\n"
          ],
          "name": "stdout"
        }
      ]
    },
    {
      "cell_type": "markdown",
      "metadata": {
        "id": "LHOqJO75_rP0"
      },
      "source": [
        "Uncertain patterns, in this case there is one uncertain patterns, the probability is uniformly distributed. so we dont t\n"
      ]
    },
    {
      "cell_type": "code",
      "metadata": {
        "id": "NUMXt-_S_adk",
        "outputId": "d92e8cde-58a0-4a2f-fc4d-51bc9be696bc",
        "colab": {
          "base_uri": "https://localhost:8080/"
        }
      },
      "source": [
        "print(all_elements_uncertain)"
      ],
      "execution_count": 104,
      "outputs": [
        {
          "output_type": "stream",
          "text": [
            "[[['Cr', 'Ni', 'Zn', 'Ni_4P']], [      Da  count  normalized_count\n",
            "41  58.0   9652         65.415114\n",
            "43  60.0   4091         27.726195\n",
            "45  61.0    473          3.205693\n",
            "46  62.0    539          3.652999], [array([[0.14400369, 0.14339602, 0.14180638, 0.14360375, 0.14121854,\n",
            "        0.14273894, 0.14323268]])]]\n"
          ],
          "name": "stdout"
        }
      ]
    },
    {
      "cell_type": "markdown",
      "metadata": {
        "id": "ov9LVpwIcTnV"
      },
      "source": [
        "This is detected peak patterns, noteworthy is that many fragments are detected."
      ]
    },
    {
      "cell_type": "code",
      "metadata": {
        "id": "wFdKybTJcP_m",
        "outputId": "b2bfe1d8-b736-42ee-82b4-8b35cc19c412",
        "colab": {
          "base_uri": "https://localhost:8080/"
        }
      },
      "source": [
        "print(elements_three_or_more_peak)"
      ],
      "execution_count": 105,
      "outputs": [
        {
          "output_type": "stream",
          "text": [
            "['Ni_4P2', 'Ni_3P2', 'Fe_3P2', 'Ni_5P', 'Ni', 'Ni', 'Ni2', 'Ni_5P2', 'Ni_3P', 'Ni_3P']\n"
          ],
          "name": "stdout"
        }
      ]
    },
    {
      "cell_type": "markdown",
      "metadata": {
        "id": "948F2OArfzbn"
      },
      "source": [
        "Example from human labelled spectra\n",
        "there are four elements labelled by experts: Ni, Fe, Ta, Co\n",
        "1. human assigned labels largely consitent with ML-ToF.\n",
        "2. peak @ 45 Da is unidentified. we gonna use molecular pattern recognizer to find it out. "
      ]
    },
    {
      "cell_type": "code",
      "metadata": {
        "id": "0EIwYs0RcnKM",
        "outputId": "7afb5e80-141b-4c6b-dbc3-394656ab2899",
        "colab": {
          "base_uri": "https://localhost:8080/",
          "height": 363
        }
      },
      "source": [
        "import matplotlib.image as mpimg\n",
        "img = mpimg.imread('example_IVAS.png')\n",
        "plt.figure(figsize=(20,40))\n",
        "imgplot = plt.imshow(img)\n",
        "plt.axis('off')\n",
        "plt.show()"
      ],
      "execution_count": 95,
      "outputs": [
        {
          "output_type": "display_data",
          "data": {
            "image/png": "[encoded data removed]",
            "text/plain": [
              "<Figure size 1440x2880 with 1 Axes>"
            ]
          },
          "metadata": {
            "tags": []
          }
        }
      ]
    },
    {
      "cell_type": "markdown",
      "metadata": {
        "id": "yLVk_U7Vhdir"
      },
      "source": [
        "#Molecular pattern recognizer"
      ]
    },
    {
      "cell_type": "code",
      "metadata": {
        "id": "8ev7rHlyhc3u"
      },
      "source": [
        "import pandas as pd\n",
        "import numpy as np\n",
        "from sklearn.model_selection import train_test_split\n",
        "import lightgbm as lgb\n",
        "import matplotlib.pyplot as plt\n",
        "\n",
        "\n",
        "class Molecular_pattern_recognizer(object):\n",
        "  def __init__(self):\n",
        "    pass\n",
        "\n",
        "  def combine_ions(self, comp_1, comp_2):\n",
        "      all_ion = []\n",
        "      all_compo = []\n",
        "      total_S = comp_1['m']\n",
        "      compo_S = comp_1['Composition']\n",
        "  #    start = 0.05\n",
        "  #    end = 1\n",
        "  #    \n",
        "      total_Cu = comp_2['m']\n",
        "      compo_Cu = comp_2['Composition']\n",
        "      for i, s in zip(compo_S, total_S) :\n",
        "          for j, cu in zip(compo_Cu, total_Cu) :\n",
        "              ion = s+cu\n",
        "              compo = round(i*j/100,2)\n",
        "              all_ion.append(ion)\n",
        "              all_compo.append(compo)\n",
        "      CuS =  pd.DataFrame(data={'m':all_ion,'Composition':all_compo})   \n",
        "      CuS = CuS.groupby('m').sum().reset_index()    \n",
        "      x = CuS[(CuS!= 0).all(1)].reset_index(drop=True)   \n",
        "      return x\n",
        "\n",
        "  def molecule_formula(self, *args):\n",
        "      # print(args)\n",
        "      temp =  args[0]\n",
        "      if args[1] >=2:\n",
        "          for _ in range(1, args[1]):\n",
        "              temp = self.combine_ions(temp, args[0])\n",
        "      #        new_temp = temp\n",
        "      for i in range(2, len(args), 2):\n",
        "          # print(i)\n",
        "          # print(len(args))\n",
        "          # print(args[i])\n",
        "          if args[i+1]>0:        \n",
        "              for _ in range(args[i+1]):\n",
        "                  temp = self.combine_ions(temp, args[i])    \n",
        "                  \n",
        "      final=temp[temp['Composition']>1]\n",
        "      return final\n",
        "\n",
        "\n",
        "  def molecule_all(self, *args):\n",
        "      all_molecule = []\n",
        "      stats = []\n",
        "      for charge in range(1,5):\n",
        "          if len(args[1]) == 1:\n",
        "              for n in range(1,4):  \n",
        "                  for m in range(0,4):\n",
        "                      molecule = self.molecule_formula(args[0], n, args[1][0], m)\n",
        "                      molecule['m'] /= charge\n",
        "                      all_molecule.append(molecule)\n",
        "                      # print(molecule)\n",
        "                      stat = [n, m, charge]\n",
        "                      stats.append(stat)\n",
        "\n",
        "          if len(args[1]) == 2:\n",
        "              for n in range(1, 4):  \n",
        "                  for m in range(0,4):\n",
        "                      for a in range(0,4):\n",
        "                          molecule = self.molecule_formula(args[0], n, args[1][0], m,  args[1][1], a)\n",
        "                          molecule['m'] /= charge\n",
        "                          all_molecule.append(molecule)\n",
        "                          # print(molecule)\n",
        "                          stat = [n, m, a, charge]\n",
        "                          stats.append(stat)    \n",
        "                          \n",
        "          if len(args[1]) == 3:\n",
        "              for n in range(1, 4):  \n",
        "                  for m in range(0, 4):\n",
        "                      for a in range(0, 4):\n",
        "                          for b in range(0, 4):\n",
        "                              molecule = self.molecule_formula(args[0], n, args[1][0], m,  args[1][1], a, args[1][2], b)\n",
        "                              molecule['m'] /= charge\n",
        "                              all_molecule.append(molecule)\n",
        "                              # print(molecule)\n",
        "                              stat = [n, m, a, b, charge]\n",
        "                              stats.append(stat)            \n",
        "      stats= pd.DataFrame(stats)     \n",
        "      return all_molecule, stats\n",
        "\n",
        "  def find_good_molecules(self, frame, metals, metals_names, nonmetals, nonmetals_names):  \n",
        "      all_molecule = []\n",
        "      stats=[]\n",
        "      N_metal = []\n",
        "      total = []\n",
        "      good_molecules = [] \n",
        "      metals_dev=[]\n",
        "      normalized_Is = []\n",
        "      MZ_ratio_round = frame['Da'].tolist()\n",
        "      for N, metal in enumerate(metals):\n",
        "          all_molecule, stats = self.molecule_all(metal, nonmetals)       \n",
        "          for i, molecule in enumerate(all_molecule):            \n",
        "              m = molecule['m'].isin(MZ_ratio_round).tolist()\n",
        "              index=np.where(m)[0]\n",
        "              comp_molecule = np.array(molecule['Composition'])[index]\n",
        "              x = frame[frame['Da'].isin(molecule['m'][m])]\n",
        "              normalized_I=x['count']/sum(x['count'])*100        \n",
        "              x['normalized_count'] = normalized_I\n",
        "              deviation = sum(abs(normalized_I-comp_molecule))\n",
        "              \n",
        "              if (sum(comp_molecule) >= 98 and len(comp_molecule) > 0 and deviation <= 20):\n",
        "                  if (sum(stats.iloc[i][1:])<=10 and sum(stats.iloc[i][1:])>=2):\n",
        "                      total.append(stats.iloc[i])\n",
        "                      metals_dev.append(deviation)\n",
        "                      N_metal.append(N)\n",
        "                      good_molecules.append(molecule)\n",
        "                      normalized_Is.append(x)\n",
        "\n",
        "      total = pd.DataFrame(total)\n",
        "      total['AME from theory value'] = metals_dev   \n",
        "      # total['N_metal'] = N_metal     \n",
        "      total.columns.values[0] = 'metal atoms'\n",
        "      total.columns.values[len(nonmetals_names)+1] = 'charges'\n",
        "      Name_metals = []\n",
        "      for i, name in enumerate(nonmetals_names):\n",
        "          total.columns.values[i+1] = name\n",
        "      for j in N_metal:\n",
        "          Name_metals.append(metals_names[j])\n",
        "          \n",
        "      total['metal_names']  =  Name_metals       \n",
        "\n",
        "      return good_molecules, total\n",
        "\n",
        "  def molecular_classifier(self, total):\n",
        "      item = total[0]\n",
        "      frame=[]\n",
        "      N=1000\n",
        "      comps =[]\n",
        "      delta =0.01\n",
        "      for n, item in enumerate(total):\n",
        "          augmented_class = []\n",
        "          for i in range(N):\n",
        "              comps=[]\n",
        "              comp = item['Composition'].tolist()\n",
        "              for j in range(len(item)):\n",
        "                  mu, sigma = comp[j], delta*comp[j]\n",
        "                  s = np.random.normal(mu, sigma, 1)\n",
        "                  comps.append(s[0])\n",
        "                  total = sum(comps)\n",
        "                  if (total<=(sum(comp)+1) and total>=(sum(comp)-1)):\n",
        "                      augmented_class.append(comps)\n",
        "          augmented_class= pd.DataFrame(augmented_class)  \n",
        "          augmented_class['Class'] = n          \n",
        "          frame.append(augmented_class)        \n",
        "      data =  pd.concat(frame)             \n",
        "      X_data = data.drop('Class',axis=1)\n",
        "      y = data.Class \n",
        "      \n",
        "      print('training test spilting...')\n",
        "      seed = 7\n",
        "      test_size = 0.2\n",
        "      X_train, X_test, y_train, y_test = train_test_split(X_data, y, test_size=test_size, random_state=seed)\n",
        "      print('start_training...')\n",
        "      evals_result = {}\n",
        "      params = {\n",
        "                \"objective\" : \"multiclass\",\n",
        "                \"num_class\" : len(frame),\n",
        "                \"num_leaves\" : 30,\n",
        "                \"max_depth\": 5,\n",
        "                \"learning_rate\" : 0.01,\n",
        "                \"bagging_fraction\" : 0.9,  # subsample\n",
        "                \"feature_fraction\" : 0.9,  # colsample_bytree\n",
        "                \"bagging_freq\" : 5,        # subsample_freq\n",
        "                \"bagging_seed\" : 20,\n",
        "                \"verbosity\" : -1 ,\n",
        "                'metric':'multi_logloss'}\n",
        "      lgtrain, lgval = lgb.Dataset(X_train, y_train), lgb.Dataset(X_test, y_test)\n",
        "      \n",
        "      model_lgb = lgb.train(params, lgtrain, 2000, valid_sets=[lgtrain, lgval], evals_result=evals_result,\n",
        "                            early_stopping_rounds=100, verbose_eval=200)\n",
        "      # print('Plotting metrics recorded during training...')\n",
        "      # lgb.plot_metric(evals_result, metric='multi_logloss')\n",
        "      # plt.xlim(0,1000) \n",
        "      # plt.show()\n",
        "      return model_lgb"
      ],
      "execution_count": 123,
      "outputs": []
    },
    {
      "cell_type": "markdown",
      "metadata": {
        "id": "EN-RgUs-0nLx"
      },
      "source": [
        "#Investigation of  standing-alone peak @ 45 Da"
      ]
    },
    {
      "cell_type": "code",
      "metadata": {
        "id": "T0X6kQK70lsj",
        "outputId": "6a8e049b-91d8-46a5-8035-b452d5ab8e4a",
        "colab": {
          "base_uri": "https://localhost:8080/"
        }
      },
      "source": [
        "Ta = pd.DataFrame(data={'m':[180.0, 181.0],'Composition':[0.012, 99.988]}) \n",
        "Al = pd.DataFrame(data={'m':[27],'Composition':[100]}) \n",
        "P = pd.DataFrame(data={'m':[31],'Composition':[100]}) \n",
        "\n",
        "H = pd.DataFrame(data={'m':[1],'Composition':[100]})\n",
        "C = pd.DataFrame(data={'m':[12.0, 13.0],'Composition':[98.89, 1.07]}) \n",
        "N = pd.DataFrame(data={'m':[14.0, 15.0],'Composition':[99.64, 0.36]}) \n",
        "\n",
        "\n",
        "   \n",
        "metals=[P, Ta ,Al]\n",
        "metal_names =['P','Ta' ,'Al']\n",
        "nonmetals = [H, C, N]\n",
        "nonmetals_names = ['H','C', 'N']\n",
        "\n",
        "mz_lower_bound = 45\n",
        "mz_upper_bound = 47\n",
        "peak_of_interest = MS_frame.loc[(MS_frame['Da']>=mz_lower_bound) & (MS_frame['Da']<=mz_upper_bound)]\n",
        "\n",
        "print(peak_of_interest)      "
      ],
      "execution_count": 107,
      "outputs": [
        {
          "output_type": "stream",
          "text": [
            "       Da  count\n",
            "34  45.25    246\n",
            "35  46.50     62\n"
          ],
          "name": "stdout"
        }
      ]
    },
    {
      "cell_type": "markdown",
      "metadata": {
        "id": "qR2a7XvbHeh_"
      },
      "source": [
        " To be more precise, the peak is at 45.25 Da"
      ]
    },
    {
      "cell_type": "code",
      "metadata": {
        "id": "034cBHuQHZCP",
        "outputId": "df45758a-72ce-4d1d-ad3d-29bca9ed8f06",
        "colab": {
          "base_uri": "https://localhost:8080/"
        }
      },
      "source": [
        "\n",
        "molecular_pattern_recognizer = Molecular_pattern_recognizer()\n",
        "good_molecules, composition_table = molecular_pattern_recognizer.find_good_molecules(peak_of_interest, metals, metal_names, nonmetals, nonmetals_names)\n"
      ],
      "execution_count": 121,
      "outputs": [
        {
          "output_type": "stream",
          "text": [
            "/usr/local/lib/python3.6/dist-packages/ipykernel_launcher.py:101: SettingWithCopyWarning: \n",
            "A value is trying to be set on a copy of a slice from a DataFrame.\n",
            "Try using .loc[row_indexer,col_indexer] = value instead\n",
            "\n",
            "See the caveats in the documentation: https://pandas.pydata.org/pandas-docs/stable/user_guide/indexing.html#returning-a-view-versus-a-copy\n",
            "/usr/local/lib/python3.6/dist-packages/ipykernel_launcher.py:76: SettingWithCopyWarning: \n",
            "A value is trying to be set on a copy of a slice from a DataFrame.\n",
            "Try using .loc[row_indexer,col_indexer] = value instead\n",
            "\n",
            "See the caveats in the documentation: https://pandas.pydata.org/pandas-docs/stable/user_guide/indexing.html#returning-a-view-versus-a-copy\n",
            "/usr/local/lib/python3.6/dist-packages/ipykernel_launcher.py:76: SettingWithCopyWarning: \n",
            "A value is trying to be set on a copy of a slice from a DataFrame.\n",
            "Try using .loc[row_indexer,col_indexer] = value instead\n",
            "\n",
            "See the caveats in the documentation: https://pandas.pydata.org/pandas-docs/stable/user_guide/indexing.html#returning-a-view-versus-a-copy\n",
            "/usr/local/lib/python3.6/dist-packages/ipykernel_launcher.py:76: SettingWithCopyWarning: \n",
            "A value is trying to be set on a copy of a slice from a DataFrame.\n",
            "Try using .loc[row_indexer,col_indexer] = value instead\n",
            "\n",
            "See the caveats in the documentation: https://pandas.pydata.org/pandas-docs/stable/user_guide/indexing.html#returning-a-view-versus-a-copy\n",
            "/usr/local/lib/python3.6/dist-packages/ipykernel_launcher.py:76: SettingWithCopyWarning: \n",
            "A value is trying to be set on a copy of a slice from a DataFrame.\n",
            "Try using .loc[row_indexer,col_indexer] = value instead\n",
            "\n",
            "See the caveats in the documentation: https://pandas.pydata.org/pandas-docs/stable/user_guide/indexing.html#returning-a-view-versus-a-copy\n",
            "/usr/local/lib/python3.6/dist-packages/ipykernel_launcher.py:101: SettingWithCopyWarning: \n",
            "A value is trying to be set on a copy of a slice from a DataFrame.\n",
            "Try using .loc[row_indexer,col_indexer] = value instead\n",
            "\n",
            "See the caveats in the documentation: https://pandas.pydata.org/pandas-docs/stable/user_guide/indexing.html#returning-a-view-versus-a-copy\n",
            "/usr/local/lib/python3.6/dist-packages/ipykernel_launcher.py:101: SettingWithCopyWarning: \n",
            "A value is trying to be set on a copy of a slice from a DataFrame.\n",
            "Try using .loc[row_indexer,col_indexer] = value instead\n",
            "\n",
            "See the caveats in the documentation: https://pandas.pydata.org/pandas-docs/stable/user_guide/indexing.html#returning-a-view-versus-a-copy\n"
          ],
          "name": "stderr"
        }
      ]
    },
    {
      "cell_type": "markdown",
      "metadata": {
        "id": "S38HWudpHd9W"
      },
      "source": [
        "AME: absolute mean error.\n",
        "AME from theory -  compuate the AME between the experimental data with computed molecular patterns. \n",
        "\n",
        "in this case, the most promising candidates are P_3 2+ or Ta 4+\n",
        "based on the prior knowledge that this materials system contains littel P, the most likely label for peak @ 45.25 Da is Ta 4+"
      ]
    },
    {
      "cell_type": "code",
      "metadata": {
        "id": "mjAddg-rHNOh",
        "outputId": "4c38005b-0648-4612-a75a-fd9851927180",
        "colab": {
          "base_uri": "https://localhost:8080/"
        }
      },
      "source": [
        "print(composition_table)"
      ],
      "execution_count": 109,
      "outputs": [
        {
          "output_type": "stream",
          "text": [
            "     metal atoms  H  C  N  charges  AME from theory value metal_names\n",
            "306            2  3  0  2        2                  0.720           P\n",
            "320            3  0  0  0        2                  0.000           P\n",
            "576            1  0  0  0        4                  0.012          Ta\n",
            "324            3  0  1  0        2                  1.110          Al\n"
          ],
          "name": "stdout"
        }
      ]
    },
    {
      "cell_type": "markdown",
      "metadata": {
        "id": "lCcvHKmPYjgM"
      },
      "source": [
        ""
      ]
    },
    {
      "cell_type": "markdown",
      "metadata": {
        "id": "g-54Uo1yX_dV"
      },
      "source": [
        "# molecular classifer\n",
        "\n",
        "In practice, this are often used when the peak of interest contains multiple peaks and  composition table alone cannot find out which pattern is the most likely candidate i.g., the AME are very close.\n",
        "\n",
        "Here an example of Cu1S2 and Cu1S1O2 is given"
      ]
    },
    {
      "cell_type": "code",
      "metadata": {
        "id": "pcquOD3YX1Dz",
        "outputId": "7818f0ce-0b05-44fc-ba44-a32d0ecae8ab",
        "colab": {
          "base_uri": "https://localhost:8080/"
        }
      },
      "source": [
        "O = pd.DataFrame(data={'m':[16.0, 18.0],'Composition':[99.8, 0.2]})\n",
        "Cu = pd.DataFrame(data={'m':[63.0, 65.0],'Composition':[69.15, 30.85]})\n",
        "S = pd.DataFrame(data={'m':[32.0, 33.0, 34.0, 36.0],'Composition':[94.99, 0.75, 4.25, 0.01]})\n",
        "\n",
        "#if more than one molecular formula \n",
        "molecular_pattern_recognizer = Molecular_pattern_recognizer()\n",
        "\n",
        "x = molecular_pattern_recognizer.molecule_formula(Cu,1,S,2)    \n",
        "y = molecular_pattern_recognizer.molecule_formula(Cu,1,S,1,O,2)\n",
        "molecules = [x,y]\n",
        "molecule_class = True\n",
        "if molecule_class == True:\n",
        "   model = molecular_pattern_recognizer.molecular_classifier(molecules)"
      ],
      "execution_count": 124,
      "outputs": [
        {
          "output_type": "stream",
          "text": [
            "training test spilting...\n",
            "start_training...\n",
            "Training until validation scores don't improve for 100 rounds.\n",
            "[200]\ttraining's multi_logloss: 0.0704051\tvalid_1's multi_logloss: 0.0699587\n",
            "[400]\ttraining's multi_logloss: 0.00982219\tvalid_1's multi_logloss: 0.00940582\n",
            "[600]\ttraining's multi_logloss: 0.00149045\tvalid_1's multi_logloss: 0.00134707\n",
            "[800]\ttraining's multi_logloss: 0.000241246\tvalid_1's multi_logloss: 0.000205518\n",
            "[1000]\ttraining's multi_logloss: 4.18962e-05\tvalid_1's multi_logloss: 3.54421e-05\n",
            "[1200]\ttraining's multi_logloss: 8.14769e-06\tvalid_1's multi_logloss: 8.14944e-06\n",
            "[1400]\ttraining's multi_logloss: 1.80566e-06\tvalid_1's multi_logloss: 2.70684e-06\n",
            "Early stopping, best iteration is:\n",
            "[1495]\ttraining's multi_logloss: 1.01568e-06\tvalid_1's multi_logloss: 1.76207e-06\n"
          ],
          "name": "stdout"
        }
      ]
    },
    {
      "cell_type": "markdown",
      "metadata": {
        "id": "eWc6dL10HTK4"
      },
      "source": [
        "\n",
        "The model is ready to use, input will be the experimental abundance ratio \n",
        "\n",
        "\n",
        "probability = model(experimental_abundance_ratio)\n",
        "\n",
        "\n",
        "In this case, the molecular classifier is not used, since we do not observe any ambiguilty in the composition table.\n",
        "\n",
        "\n"
      ]
    }
  ]
}